{
 "cells": [
  {
   "cell_type": "code",
   "execution_count": null,
   "id": "9184d259-bfe0-4ad8-a43e-8bce502059c8",
   "metadata": {
    "execution": {
     "iopub.execute_input": "2023-02-07T21:22:21.755198Z",
     "iopub.status.busy": "2023-02-07T21:22:21.755051Z",
     "iopub.status.idle": "2023-02-07T21:22:23.585329Z",
     "shell.execute_reply": "2023-02-07T21:22:23.584743Z",
     "shell.execute_reply.started": "2023-02-07T21:22:21.755181Z"
    },
    "tags": []
   },
   "outputs": [],
   "source": [
    "import gymnasium as gym\n",
    "import os\n",
    "import matplotlib.pyplot as plt\n",
    "import json # for dumping debug data\n",
    "import time # for benchmarking\n",
    "import numpy as np\n",
    "from ddqn_torch import DoubleQAgent\n",
    "\n",
    "LEARN_EVERY = 4\n",
    "def train_agent(n_episodes=2000, load_latest_model=False):\n",
    "    print(\"Training a DDQN agent on {} episodes. Pretrained model = {}\".format(n_episodes,load_latest_model))\n",
    "    env = gym.make(\"LunarLander-v2\")\n",
    "    agent = DoubleQAgent(gamma=0.99, epsilon=1.0, epsilon_dec=0.995, lr=0.001, mem_size=200000, batch_size=128, epsilon_end=0.01)\n",
    "    if load_latest_model:\n",
    "        agent.load_saved_model('ddqn_torch_model.h5')\n",
    "        print('Loaded most recent: ddqn_torch_model.h5')\n",
    "        \n",
    "    scores = []\n",
    "    eps_history = []\n",
    "    start = time.time()\n",
    "    for i in range(n_episodes):\n",
    "        terminated = False\n",
    "        truncated = False\n",
    "        score = 0\n",
    "        state = env.reset()[0]\n",
    "        steps = 0\n",
    "        while not (terminated or truncated):\n",
    "            action = agent.choose_action(state)\n",
    "            new_state, reward, terminated, truncated, info = env.step(action)\n",
    "            agent.save(state, action, reward, new_state, terminated)\n",
    "            state = new_state\n",
    "            if steps > 0 and steps % LEARN_EVERY == 0:\n",
    "                agent.learn()\n",
    "            steps += 1\n",
    "            score += reward\n",
    "            \n",
    "        eps_history.append(agent.epsilon)\n",
    "        scores.append(score)\n",
    "        avg_score = np.mean(scores[max(0, i-100):(i+1)])\n",
    "\n",
    "        if (i+1) % 10 == 0 and i > 0:\n",
    "            # Report expected time to finish the training\n",
    "            print('Episode {} in {:.2f} min. Expected total time for {} episodes: {:.0f} min. [{:.2f}/{:.2f}]'.format((i+1), \n",
    "                                                                                                                      (time.time() - start)/60, \n",
    "                                                                                                                      n_episodes, \n",
    "                                                                                                                      (((time.time() - start)/i)*n_episodes)/60, \n",
    "                                                                                                                      score, \n",
    "                                                                                                                      avg_score))\n",
    "            \n",
    "        if (i+1) % 100 == 0 and i > 0:\n",
    "            # Save the model every N-th step just in case\n",
    "            agent.save_model('ddqn_torch_model.h5')\n",
    "            with open(\"ddqn_torch_dqn_scores_{}.json\".format(int(time.time())), \"w\") as fp:\n",
    "                json.dump(scores, fp)\n",
    "            with open(\"ddqn_torch_eps_history_{}.json\".format(int(time.time())), \"w\") as fp:\n",
    "                json.dump(eps_history, fp)\n",
    "                \n",
    "    return agent"
   ]
  },
  {
   "cell_type": "code",
   "execution_count": null,
   "id": "611f905c-9a67-4de9-a351-be3003b9f26b",
   "metadata": {
    "execution": {
     "iopub.execute_input": "2023-02-07T21:22:23.587161Z",
     "iopub.status.busy": "2023-02-07T21:22:23.586690Z",
     "iopub.status.idle": "2023-02-07T21:22:23.589493Z",
     "shell.execute_reply": "2023-02-07T21:22:23.589027Z",
     "shell.execute_reply.started": "2023-02-07T21:22:23.587140Z"
    },
    "tags": []
   },
   "outputs": [],
   "source": [
    "#Train\n",
    "agent = train_agent(n_episodes=100, load_latest_model=False)"
   ]
  },
  {
   "cell_type": "code",
   "execution_count": null,
   "id": "e596f509-6b4a-4ef5-b8f6-aae925b3d279",
   "metadata": {
    "execution": {
     "iopub.execute_input": "2023-02-07T21:22:23.590427Z",
     "iopub.status.busy": "2023-02-07T21:22:23.590125Z",
     "iopub.status.idle": "2023-02-07T21:29:30.269658Z",
     "shell.execute_reply": "2023-02-07T21:29:30.269067Z",
     "shell.execute_reply.started": "2023-02-07T21:22:23.590411Z"
    },
    "tags": []
   },
   "outputs": [],
   "source": [
    "# Visualize the model\n",
    "import gymnasium as gym\n",
    "import os\n",
    "import matplotlib.pyplot as plt\n",
    "os.environ[\"SDL_VIDEODRIVER\"] = \"dummy\"\n",
    "from IPython.display import clear_output\n",
    "\n",
    "# Set path to the model to visualize\n",
    "model_to_animate = 'ddqn_torch_model.h5'\n",
    "\n",
    "def animate_model(name, atype='single'):\n",
    "    env = gym.make(\"LunarLander-v2\", render_mode=\"rgb_array\")\n",
    "    agent = DoubleQAgent(gamma=0.99, epsilon=0.0, lr=0.0005, mem_size=200000, batch_size=64, epsilon_end=0.01)\n",
    "    agent.load_saved_model(name)\n",
    "    state, info = env.reset(seed=12)\n",
    "    for _ in range(5):\n",
    "        terminated = False\n",
    "        truncated = False\n",
    "        while not (terminated or truncated):\n",
    "            action = agent.choose_action(state)\n",
    "            new_state, reward, terminated, truncated, info = env.step(action)\n",
    "            state = new_state\n",
    "            clear_output(wait=True)\n",
    "            plt.imshow( env.render() )\n",
    "            plt.show()\n",
    "        state = env.reset()[0]\n",
    "    env.close()\n",
    "\n",
    "animate_model(model_to_animate, atype='double')"
   ]
  },
  {
   "cell_type": "code",
   "execution_count": null,
   "id": "3cc018ff-a067-481c-9e37-dade4167d06c",
   "metadata": {},
   "outputs": [],
   "source": []
  }
 ],
 "metadata": {
  "kernelspec": {
   "display_name": "Python 3 (ipykernel)",
   "language": "python",
   "name": "python3"
  },
  "language_info": {
   "codemirror_mode": {
    "name": "ipython",
    "version": 3
   },
   "file_extension": ".py",
   "mimetype": "text/x-python",
   "name": "python",
   "nbconvert_exporter": "python",
   "pygments_lexer": "ipython3",
   "version": "3.9.18"
  }
 },
 "nbformat": 4,
 "nbformat_minor": 5
}
